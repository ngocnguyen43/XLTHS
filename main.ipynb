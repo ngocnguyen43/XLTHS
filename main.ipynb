{
 "cells": [
  {
   "cell_type": "code",
   "execution_count": 1,
   "metadata": {},
   "outputs": [],
   "source": [
    "import os\n",
    "import numpy as np\n",
    "import librosa\n",
    "import soundfile as sf\n",
    "import scipy.io.wavfile as wav\n",
    "from scipy.io.wavfile import read, write\n",
    "import seaborn as sns\n",
    "from sklearn.metrics import confusion_matrix\n",
    "from sklearn.metrics import accuracy_score\n",
    "import matplotlib.pyplot as plt"
   ]
  },
  {
   "cell_type": "code",
   "execution_count": 2,
   "metadata": {},
   "outputs": [
    {
     "data": {
      "text/plain": [
       "['23MTL',\n",
       " '24FTL',\n",
       " '25MLM',\n",
       " '27MCM',\n",
       " '28MVN',\n",
       " '29MHN',\n",
       " '30FTN',\n",
       " '32MTP',\n",
       " '33MHP',\n",
       " '34MQP',\n",
       " '35MMQ',\n",
       " '36MAQ',\n",
       " '37MDS',\n",
       " '38MDS',\n",
       " '39MTS',\n",
       " '40MHS',\n",
       " '41MVS',\n",
       " '42FQT',\n",
       " '43MNT',\n",
       " '44MTT',\n",
       " '45MDV']"
      ]
     },
     "execution_count": 2,
     "metadata": {},
     "output_type": "execute_result"
    }
   ],
   "source": [
    "os.listdir(\"./NguyenAmHuanLuyen-16k/\")"
   ]
  },
  {
   "cell_type": "code",
   "execution_count": 2,
   "metadata": {},
   "outputs": [],
   "source": [
    "Fs = 16000 # Tần số lấy mẫu của audio, luôn là 16000\n",
    "char = ['a','e','i','o','u']\n",
    "#Tham số \n",
    "NFFT = 512 # độ dài vector FFT\n",
    "# frame_size = (int)(Fs*0.03) # Kích thước một frame\n",
    "# hop_size = (int)(Fs*0.02) # Kích thước một bước nhảy\n",
    "frame_size = int(20 * Fs / 1000)  # Frame length in samples\n",
    "hop_size = int(10 * Fs / 1000)  # Frame step in samples\n",
    "training_path = \"./trimmed-NguyenAmHuanLuyen-16k\" # đường dẫn đến file training\n",
    "testing_path = \"./trimmed-NguyenAmKiemThu-16k\"    # đường dẫn đến file test"
   ]
  },
  {
   "cell_type": "code",
   "execution_count": 15,
   "metadata": {},
   "outputs": [],
   "source": [
    "def calculate_ma(frame):\n",
    "\n",
    "    # Tính Short-Time Energy (STE) cho một frame\n",
    "    return np.linalg.norm(frame)"
   ]
  },
  {
   "cell_type": "code",
   "execution_count": 16,
   "metadata": {},
   "outputs": [],
   "source": [
    "def trim_silence_at_ends(audio, frame_length=0.025, min_silence=0.1):\n",
    "    # Tính toán kích thước frame và số lượng frame\n",
    "    frame_size = int(frame_length * Fs)\n",
    "    num_frames = len(audio) // frame_size\n",
    "\n",
    "    # Tính STE cho từng frame\n",
    "    MAs = np.array([calculate_ma(audio[i*frame_size:(i+1)*frame_size]) for i in range(num_frames)])\n",
    "\n",
    "    # Xác định ngưỡng để phát hiện âm thanh yên tĩnh\n",
    "    avg_MA = np.average(MAs)\n",
    "    threshold = 0.3 * avg_MA\n",
    "\n",
    "    # Xác định frame yên tĩnh ở đầu file\n",
    "    start_index = 0\n",
    "    while MAs[start_index] < threshold:\n",
    "        start_index += 1\n",
    "\n",
    "    # Xác định frame yên tĩnh ở cuối file\n",
    "    end_index = num_frames - 1\n",
    "    while MAs[end_index] < threshold:\n",
    "        end_index -= 1\n",
    "\n",
    "    # Lấy khoảng âm thanh không yên tĩnh\n",
    "    trimmed_audio = audio[start_index*frame_size:(end_index+1)*frame_size]\n",
    "\n",
    "    return trimmed_audio"
   ]
  },
  {
   "cell_type": "code",
   "execution_count": 17,
   "metadata": {},
   "outputs": [],
   "source": [
    "def signal_trimming(file_path, trim_silence=True, frame_length=0.025, min_silence=0.1):\n",
    "    # Load audio file\n",
    "    audio, sample_rate = librosa.load(file_path, sr=None)\n",
    "\n",
    "    # Loại bỏ khoảng yên tĩnh ở đầu và cuối nếu cần\n",
    "    if trim_silence:\n",
    "        audio = trim_silence_at_ends(audio, frame_length, min_silence)\n",
    "\n",
    "    return audio, sample_rate"
   ]
  },
  {
   "cell_type": "code",
   "execution_count": 18,
   "metadata": {},
   "outputs": [],
   "source": [
    "def browse_files(signal_path, output_path):\n",
    "    for file in sorted(os.listdir(signal_path)):\n",
    "        sub_path = os.path.join(signal_path, file)\n",
    "        sub_output_path = os.path.join(output_path, file)\n",
    "\n",
    "        # Tạo thư mục đầu ra nếu nó chưa tồn tại\n",
    "        os.makedirs(sub_output_path, exist_ok=True)\n",
    "\n",
    "        for sub_file in sorted(os.listdir(sub_path)):\n",
    "            exact_input_path = os.path.join(sub_path, sub_file)\n",
    "            exact_output_path = os.path.join(sub_output_path, sub_file)\n",
    "\n",
    "            # Lấy âm thanh đã được trim, mặc định là trim cả yên tĩnh ở đầu và cuối\n",
    "            trimmed_audio, sample_rate = signal_trimming(exact_input_path)\n",
    "\n",
    "            # Ghi âm thanh đã được trim ra file đầu ra\n",
    "            sf.write(exact_output_path, trimmed_audio, sample_rate)\n",
    "            print(exact_output_path)"
   ]
  },
  {
   "cell_type": "code",
   "execution_count": 19,
   "metadata": {},
   "outputs": [
    {
     "name": "stdout",
     "output_type": "stream",
     "text": [
      "./trimmed-NguyenAmHuanLuyen-16k\\23MTL\\a.wav\n",
      "./trimmed-NguyenAmHuanLuyen-16k\\23MTL\\e.wav\n",
      "./trimmed-NguyenAmHuanLuyen-16k\\23MTL\\i.wav\n",
      "./trimmed-NguyenAmHuanLuyen-16k\\23MTL\\o.wav\n",
      "./trimmed-NguyenAmHuanLuyen-16k\\23MTL\\u.wav\n",
      "./trimmed-NguyenAmHuanLuyen-16k\\24FTL\\a.wav\n",
      "./trimmed-NguyenAmHuanLuyen-16k\\24FTL\\e.wav\n",
      "./trimmed-NguyenAmHuanLuyen-16k\\24FTL\\i.wav\n",
      "./trimmed-NguyenAmHuanLuyen-16k\\24FTL\\o.wav\n",
      "./trimmed-NguyenAmHuanLuyen-16k\\24FTL\\u.wav\n",
      "./trimmed-NguyenAmHuanLuyen-16k\\25MLM\\a.wav\n",
      "./trimmed-NguyenAmHuanLuyen-16k\\25MLM\\e.wav\n",
      "./trimmed-NguyenAmHuanLuyen-16k\\25MLM\\i.wav\n",
      "./trimmed-NguyenAmHuanLuyen-16k\\25MLM\\o.wav\n",
      "./trimmed-NguyenAmHuanLuyen-16k\\25MLM\\u.wav\n",
      "./trimmed-NguyenAmHuanLuyen-16k\\27MCM\\a.wav\n",
      "./trimmed-NguyenAmHuanLuyen-16k\\27MCM\\e.wav\n",
      "./trimmed-NguyenAmHuanLuyen-16k\\27MCM\\i.wav\n",
      "./trimmed-NguyenAmHuanLuyen-16k\\27MCM\\o.wav\n",
      "./trimmed-NguyenAmHuanLuyen-16k\\27MCM\\u.wav\n",
      "./trimmed-NguyenAmHuanLuyen-16k\\28MVN\\a.wav\n",
      "./trimmed-NguyenAmHuanLuyen-16k\\28MVN\\e.wav\n",
      "./trimmed-NguyenAmHuanLuyen-16k\\28MVN\\i.wav\n",
      "./trimmed-NguyenAmHuanLuyen-16k\\28MVN\\o.wav\n",
      "./trimmed-NguyenAmHuanLuyen-16k\\28MVN\\u.wav\n",
      "./trimmed-NguyenAmHuanLuyen-16k\\29MHN\\a.wav\n",
      "./trimmed-NguyenAmHuanLuyen-16k\\29MHN\\e.wav\n",
      "./trimmed-NguyenAmHuanLuyen-16k\\29MHN\\i.wav\n",
      "./trimmed-NguyenAmHuanLuyen-16k\\29MHN\\o.wav\n",
      "./trimmed-NguyenAmHuanLuyen-16k\\29MHN\\u.wav\n",
      "./trimmed-NguyenAmHuanLuyen-16k\\30FTN\\a.wav\n",
      "./trimmed-NguyenAmHuanLuyen-16k\\30FTN\\e.wav\n",
      "./trimmed-NguyenAmHuanLuyen-16k\\30FTN\\i.wav\n",
      "./trimmed-NguyenAmHuanLuyen-16k\\30FTN\\o.wav\n",
      "./trimmed-NguyenAmHuanLuyen-16k\\30FTN\\u.wav\n",
      "./trimmed-NguyenAmHuanLuyen-16k\\32MTP\\a.wav\n",
      "./trimmed-NguyenAmHuanLuyen-16k\\32MTP\\e.wav\n",
      "./trimmed-NguyenAmHuanLuyen-16k\\32MTP\\i.wav\n",
      "./trimmed-NguyenAmHuanLuyen-16k\\32MTP\\o.wav\n",
      "./trimmed-NguyenAmHuanLuyen-16k\\32MTP\\u.wav\n",
      "./trimmed-NguyenAmHuanLuyen-16k\\33MHP\\a.wav\n",
      "./trimmed-NguyenAmHuanLuyen-16k\\33MHP\\e.wav\n",
      "./trimmed-NguyenAmHuanLuyen-16k\\33MHP\\i.wav\n",
      "./trimmed-NguyenAmHuanLuyen-16k\\33MHP\\o.wav\n",
      "./trimmed-NguyenAmHuanLuyen-16k\\33MHP\\u.wav\n",
      "./trimmed-NguyenAmHuanLuyen-16k\\34MQP\\a.wav\n",
      "./trimmed-NguyenAmHuanLuyen-16k\\34MQP\\e.wav\n",
      "./trimmed-NguyenAmHuanLuyen-16k\\34MQP\\i.wav\n",
      "./trimmed-NguyenAmHuanLuyen-16k\\34MQP\\o.wav\n",
      "./trimmed-NguyenAmHuanLuyen-16k\\34MQP\\u.wav\n",
      "./trimmed-NguyenAmHuanLuyen-16k\\35MMQ\\a.wav\n",
      "./trimmed-NguyenAmHuanLuyen-16k\\35MMQ\\e.wav\n",
      "./trimmed-NguyenAmHuanLuyen-16k\\35MMQ\\i.wav\n",
      "./trimmed-NguyenAmHuanLuyen-16k\\35MMQ\\o.wav\n",
      "./trimmed-NguyenAmHuanLuyen-16k\\35MMQ\\u.wav\n",
      "./trimmed-NguyenAmHuanLuyen-16k\\36MAQ\\a.wav\n",
      "./trimmed-NguyenAmHuanLuyen-16k\\36MAQ\\e.wav\n",
      "./trimmed-NguyenAmHuanLuyen-16k\\36MAQ\\i.wav\n",
      "./trimmed-NguyenAmHuanLuyen-16k\\36MAQ\\o.wav\n",
      "./trimmed-NguyenAmHuanLuyen-16k\\36MAQ\\u.wav\n",
      "./trimmed-NguyenAmHuanLuyen-16k\\37MDS\\a.wav\n",
      "./trimmed-NguyenAmHuanLuyen-16k\\37MDS\\e.wav\n",
      "./trimmed-NguyenAmHuanLuyen-16k\\37MDS\\i.wav\n",
      "./trimmed-NguyenAmHuanLuyen-16k\\37MDS\\o.wav\n",
      "./trimmed-NguyenAmHuanLuyen-16k\\37MDS\\u.wav\n",
      "./trimmed-NguyenAmHuanLuyen-16k\\38MDS\\a.wav\n",
      "./trimmed-NguyenAmHuanLuyen-16k\\38MDS\\e.wav\n",
      "./trimmed-NguyenAmHuanLuyen-16k\\38MDS\\i.wav\n",
      "./trimmed-NguyenAmHuanLuyen-16k\\38MDS\\o.wav\n",
      "./trimmed-NguyenAmHuanLuyen-16k\\38MDS\\u.wav\n",
      "./trimmed-NguyenAmHuanLuyen-16k\\39MTS\\a.wav\n",
      "./trimmed-NguyenAmHuanLuyen-16k\\39MTS\\e.wav\n",
      "./trimmed-NguyenAmHuanLuyen-16k\\39MTS\\i.wav\n",
      "./trimmed-NguyenAmHuanLuyen-16k\\39MTS\\o.wav\n",
      "./trimmed-NguyenAmHuanLuyen-16k\\39MTS\\u.wav\n",
      "./trimmed-NguyenAmHuanLuyen-16k\\40MHS\\a.wav\n",
      "./trimmed-NguyenAmHuanLuyen-16k\\40MHS\\e.wav\n",
      "./trimmed-NguyenAmHuanLuyen-16k\\40MHS\\i.wav\n",
      "./trimmed-NguyenAmHuanLuyen-16k\\40MHS\\o.wav\n",
      "./trimmed-NguyenAmHuanLuyen-16k\\40MHS\\u.wav\n",
      "./trimmed-NguyenAmHuanLuyen-16k\\41MVS\\a.wav\n",
      "./trimmed-NguyenAmHuanLuyen-16k\\41MVS\\e.wav\n",
      "./trimmed-NguyenAmHuanLuyen-16k\\41MVS\\i.wav\n",
      "./trimmed-NguyenAmHuanLuyen-16k\\41MVS\\o.wav\n",
      "./trimmed-NguyenAmHuanLuyen-16k\\41MVS\\u.wav\n",
      "./trimmed-NguyenAmHuanLuyen-16k\\42FQT\\a.wav\n",
      "./trimmed-NguyenAmHuanLuyen-16k\\42FQT\\e.wav\n",
      "./trimmed-NguyenAmHuanLuyen-16k\\42FQT\\i.wav\n",
      "./trimmed-NguyenAmHuanLuyen-16k\\42FQT\\o.wav\n",
      "./trimmed-NguyenAmHuanLuyen-16k\\42FQT\\u.wav\n",
      "./trimmed-NguyenAmHuanLuyen-16k\\43MNT\\a.wav\n",
      "./trimmed-NguyenAmHuanLuyen-16k\\43MNT\\e.wav\n",
      "./trimmed-NguyenAmHuanLuyen-16k\\43MNT\\i.wav\n",
      "./trimmed-NguyenAmHuanLuyen-16k\\43MNT\\o.wav\n",
      "./trimmed-NguyenAmHuanLuyen-16k\\43MNT\\u.wav\n",
      "./trimmed-NguyenAmHuanLuyen-16k\\44MTT\\a.wav\n",
      "./trimmed-NguyenAmHuanLuyen-16k\\44MTT\\e.wav\n",
      "./trimmed-NguyenAmHuanLuyen-16k\\44MTT\\i.wav\n",
      "./trimmed-NguyenAmHuanLuyen-16k\\44MTT\\o.wav\n",
      "./trimmed-NguyenAmHuanLuyen-16k\\44MTT\\u.wav\n",
      "./trimmed-NguyenAmHuanLuyen-16k\\45MDV\\a.wav\n",
      "./trimmed-NguyenAmHuanLuyen-16k\\45MDV\\e.wav\n",
      "./trimmed-NguyenAmHuanLuyen-16k\\45MDV\\i.wav\n",
      "./trimmed-NguyenAmHuanLuyen-16k\\45MDV\\o.wav\n",
      "./trimmed-NguyenAmHuanLuyen-16k\\45MDV\\u.wav\n",
      "./trimmed-NguyenAmKiemThu-16k\\01MDA\\a.wav\n",
      "./trimmed-NguyenAmKiemThu-16k\\01MDA\\e.wav\n",
      "./trimmed-NguyenAmKiemThu-16k\\01MDA\\i.wav\n",
      "./trimmed-NguyenAmKiemThu-16k\\01MDA\\o.wav\n",
      "./trimmed-NguyenAmKiemThu-16k\\01MDA\\u.wav\n",
      "./trimmed-NguyenAmKiemThu-16k\\02FVA\\a.wav\n",
      "./trimmed-NguyenAmKiemThu-16k\\02FVA\\e.wav\n",
      "./trimmed-NguyenAmKiemThu-16k\\02FVA\\i.wav\n",
      "./trimmed-NguyenAmKiemThu-16k\\02FVA\\o.wav\n",
      "./trimmed-NguyenAmKiemThu-16k\\02FVA\\u.wav\n",
      "./trimmed-NguyenAmKiemThu-16k\\03MAB\\a.wav\n",
      "./trimmed-NguyenAmKiemThu-16k\\03MAB\\e.wav\n",
      "./trimmed-NguyenAmKiemThu-16k\\03MAB\\i.wav\n",
      "./trimmed-NguyenAmKiemThu-16k\\03MAB\\o.wav\n",
      "./trimmed-NguyenAmKiemThu-16k\\03MAB\\u.wav\n",
      "./trimmed-NguyenAmKiemThu-16k\\04MHB\\a.wav\n",
      "./trimmed-NguyenAmKiemThu-16k\\04MHB\\e.wav\n",
      "./trimmed-NguyenAmKiemThu-16k\\04MHB\\i.wav\n",
      "./trimmed-NguyenAmKiemThu-16k\\04MHB\\o.wav\n",
      "./trimmed-NguyenAmKiemThu-16k\\04MHB\\u.wav\n",
      "./trimmed-NguyenAmKiemThu-16k\\05MVB\\a.wav\n",
      "./trimmed-NguyenAmKiemThu-16k\\05MVB\\e.wav\n",
      "./trimmed-NguyenAmKiemThu-16k\\05MVB\\i.wav\n",
      "./trimmed-NguyenAmKiemThu-16k\\05MVB\\o.wav\n",
      "./trimmed-NguyenAmKiemThu-16k\\05MVB\\u.wav\n",
      "./trimmed-NguyenAmKiemThu-16k\\06FTB\\a.wav\n",
      "./trimmed-NguyenAmKiemThu-16k\\06FTB\\e.wav\n",
      "./trimmed-NguyenAmKiemThu-16k\\06FTB\\i.wav\n",
      "./trimmed-NguyenAmKiemThu-16k\\06FTB\\o.wav\n",
      "./trimmed-NguyenAmKiemThu-16k\\06FTB\\u.wav\n",
      "./trimmed-NguyenAmKiemThu-16k\\07FTC\\a.wav\n",
      "./trimmed-NguyenAmKiemThu-16k\\07FTC\\e.wav\n",
      "./trimmed-NguyenAmKiemThu-16k\\07FTC\\i.wav\n",
      "./trimmed-NguyenAmKiemThu-16k\\07FTC\\o.wav\n",
      "./trimmed-NguyenAmKiemThu-16k\\07FTC\\u.wav\n",
      "./trimmed-NguyenAmKiemThu-16k\\08MLD\\a.wav\n",
      "./trimmed-NguyenAmKiemThu-16k\\08MLD\\e.wav\n",
      "./trimmed-NguyenAmKiemThu-16k\\08MLD\\i.wav\n",
      "./trimmed-NguyenAmKiemThu-16k\\08MLD\\o.wav\n",
      "./trimmed-NguyenAmKiemThu-16k\\08MLD\\u.wav\n",
      "./trimmed-NguyenAmKiemThu-16k\\09MPD\\a.wav\n",
      "./trimmed-NguyenAmKiemThu-16k\\09MPD\\e.wav\n",
      "./trimmed-NguyenAmKiemThu-16k\\09MPD\\i.wav\n",
      "./trimmed-NguyenAmKiemThu-16k\\09MPD\\o.wav\n",
      "./trimmed-NguyenAmKiemThu-16k\\09MPD\\u.wav\n",
      "./trimmed-NguyenAmKiemThu-16k\\10MSD\\a.wav\n",
      "./trimmed-NguyenAmKiemThu-16k\\10MSD\\e.wav\n",
      "./trimmed-NguyenAmKiemThu-16k\\10MSD\\i.wav\n",
      "./trimmed-NguyenAmKiemThu-16k\\10MSD\\o.wav\n",
      "./trimmed-NguyenAmKiemThu-16k\\10MSD\\u.wav\n",
      "./trimmed-NguyenAmKiemThu-16k\\11MVD\\a.wav\n",
      "./trimmed-NguyenAmKiemThu-16k\\11MVD\\e.wav\n",
      "./trimmed-NguyenAmKiemThu-16k\\11MVD\\i.wav\n",
      "./trimmed-NguyenAmKiemThu-16k\\11MVD\\o.wav\n",
      "./trimmed-NguyenAmKiemThu-16k\\11MVD\\u.wav\n",
      "./trimmed-NguyenAmKiemThu-16k\\12FTD\\a.wav\n",
      "./trimmed-NguyenAmKiemThu-16k\\12FTD\\e.wav\n",
      "./trimmed-NguyenAmKiemThu-16k\\12FTD\\i.wav\n",
      "./trimmed-NguyenAmKiemThu-16k\\12FTD\\o.wav\n",
      "./trimmed-NguyenAmKiemThu-16k\\12FTD\\u.wav\n",
      "./trimmed-NguyenAmKiemThu-16k\\14FHH\\a.wav\n",
      "./trimmed-NguyenAmKiemThu-16k\\14FHH\\e.wav\n",
      "./trimmed-NguyenAmKiemThu-16k\\14FHH\\i.wav\n",
      "./trimmed-NguyenAmKiemThu-16k\\14FHH\\o.wav\n",
      "./trimmed-NguyenAmKiemThu-16k\\14FHH\\u.wav\n",
      "./trimmed-NguyenAmKiemThu-16k\\15MMH\\a.wav\n",
      "./trimmed-NguyenAmKiemThu-16k\\15MMH\\e.wav\n",
      "./trimmed-NguyenAmKiemThu-16k\\15MMH\\i.wav\n",
      "./trimmed-NguyenAmKiemThu-16k\\15MMH\\o.wav\n",
      "./trimmed-NguyenAmKiemThu-16k\\15MMH\\u.wav\n",
      "./trimmed-NguyenAmKiemThu-16k\\16FTH\\a.wav\n",
      "./trimmed-NguyenAmKiemThu-16k\\16FTH\\e.wav\n",
      "./trimmed-NguyenAmKiemThu-16k\\16FTH\\i.wav\n",
      "./trimmed-NguyenAmKiemThu-16k\\16FTH\\o.wav\n",
      "./trimmed-NguyenAmKiemThu-16k\\16FTH\\u.wav\n",
      "./trimmed-NguyenAmKiemThu-16k\\17MTH\\a.wav\n",
      "./trimmed-NguyenAmKiemThu-16k\\17MTH\\e.wav\n",
      "./trimmed-NguyenAmKiemThu-16k\\17MTH\\i.wav\n",
      "./trimmed-NguyenAmKiemThu-16k\\17MTH\\o.wav\n",
      "./trimmed-NguyenAmKiemThu-16k\\17MTH\\u.wav\n",
      "./trimmed-NguyenAmKiemThu-16k\\18MNK\\a.wav\n",
      "./trimmed-NguyenAmKiemThu-16k\\18MNK\\e.wav\n",
      "./trimmed-NguyenAmKiemThu-16k\\18MNK\\i.wav\n",
      "./trimmed-NguyenAmKiemThu-16k\\18MNK\\o.wav\n",
      "./trimmed-NguyenAmKiemThu-16k\\18MNK\\u.wav\n",
      "./trimmed-NguyenAmKiemThu-16k\\19MXK\\a.wav\n",
      "./trimmed-NguyenAmKiemThu-16k\\19MXK\\e.wav\n",
      "./trimmed-NguyenAmKiemThu-16k\\19MXK\\i.wav\n",
      "./trimmed-NguyenAmKiemThu-16k\\19MXK\\o.wav\n",
      "./trimmed-NguyenAmKiemThu-16k\\19MXK\\u.wav\n",
      "./trimmed-NguyenAmKiemThu-16k\\20MVK\\a.wav\n",
      "./trimmed-NguyenAmKiemThu-16k\\20MVK\\e.wav\n",
      "./trimmed-NguyenAmKiemThu-16k\\20MVK\\i.wav\n",
      "./trimmed-NguyenAmKiemThu-16k\\20MVK\\o.wav\n",
      "./trimmed-NguyenAmKiemThu-16k\\20MVK\\u.wav\n",
      "./trimmed-NguyenAmKiemThu-16k\\21MTL\\a.wav\n",
      "./trimmed-NguyenAmKiemThu-16k\\21MTL\\e.wav\n",
      "./trimmed-NguyenAmKiemThu-16k\\21MTL\\i.wav\n",
      "./trimmed-NguyenAmKiemThu-16k\\21MTL\\o.wav\n",
      "./trimmed-NguyenAmKiemThu-16k\\21MTL\\u.wav\n",
      "./trimmed-NguyenAmKiemThu-16k\\22MHL\\a.wav\n",
      "./trimmed-NguyenAmKiemThu-16k\\22MHL\\e.wav\n",
      "./trimmed-NguyenAmKiemThu-16k\\22MHL\\i.wav\n",
      "./trimmed-NguyenAmKiemThu-16k\\22MHL\\o.wav\n",
      "./trimmed-NguyenAmKiemThu-16k\\22MHL\\u.wav\n"
     ]
    }
   ],
   "source": [
    "main_path = \"./NguyenAmHuanLuyen-16k\"\n",
    "\n",
    "# Đường dẫn thư mục đầu ra\n",
    "output_path = \"./trimmed-NguyenAmHuanLuyen-16k\"\n",
    "\n",
    "paths = [[\"./NguyenAmHuanLuyen-16k\",\"./trimmed-NguyenAmHuanLuyen-16k\"],[\"./NguyenAmKiemThu-16k\",\"./trimmed-NguyenAmKiemThu-16k\"]]\n",
    "# # Đường dẫn của thư mục chứa 21 tập folder\n",
    "# main_path = \"D:/last_hope/NguyenAmHuanLuyen-16k\"\n",
    "\n",
    "# # Đường dẫn thư mục đầu ra\n",
    "# output_path = \"D:/last_hope/trimmed-NguyenAmHuanLuyen-16k\"\n",
    "# Xử lý trên toàn bộ cây thư mục\n",
    "for i in paths:\n",
    "    browse_files(i[0], i[1])"
   ]
  },
  {
   "cell_type": "code",
   "execution_count": 20,
   "metadata": {},
   "outputs": [],
   "source": [
    "def Divide(audio):\n",
    "    length = len(audio)\n",
    "    part_len = length // 3\n",
    "    audio = audio[part_len+1:part_len*2]\n",
    "    return audio"
   ]
  },
  {
   "cell_type": "code",
   "execution_count": 21,
   "metadata": {},
   "outputs": [],
   "source": [
    "def normalize_signal(audio_signal):\n",
    "    # Find the maximum absolute value in the signal\n",
    "    max_val = np.max(np.abs(audio_signal))\n",
    "\n",
    "    # Normalize the signal to the range of -1 to 1\n",
    "    normalized_signal = audio_signal / max_val\n",
    "\n",
    "    return normalized_signal"
   ]
  },
  {
   "cell_type": "code",
   "execution_count": 22,
   "metadata": {},
   "outputs": [],
   "source": [
    "def ReadFileByName(inputPath, r):\n",
    "    audios = []\n",
    "    # trả về danh sách các bản ghi âm đã cắt của ký tự char[r]\n",
    "    for dirs in sorted(os.listdir(inputPath)):\n",
    "        sub_path = os.path.join(inputPath, dirs)\n",
    "        for files in sorted(os.listdir(sub_path)):\n",
    "            if(files[0]!=char[r]):\n",
    "                continue\n",
    "            audio_path = os.path.join(sub_path, files)\n",
    "            # print(audio_file)\n",
    "            audio, fs = librosa.load(audio_path)\n",
    "            # Tách audio và thêm vào danh sách audios\n",
    "            # nor_audio = normalize_signal(audio_signal=audio)\n",
    "            audios.append((audio))\n",
    "    return audios"
   ]
  },
  {
   "cell_type": "code",
   "execution_count": 139,
   "metadata": {},
   "outputs": [],
   "source": [
    "def cal_mfccs(audio,avr =True): #lấy giá trị vector FFT của một audio\n",
    "    # middle_part = TrimPart(audio=audio)\n",
    "    frames = librosa.util.frame(audio, frame_length=frame_size, hop_length=hop_size)\n",
    "    fft_frames = librosa.feature.mfcc(y=frames,sr=Fs, n_mfcc=13) # hiện tại một cột là một vector\n",
    "    res = fft_frames\n",
    "    res = np.abs(res)#lấy biên độ là số dương\n",
    "    if avr:\n",
    "        res = np.mean(res,axis=0)\n",
    "        return res\n",
    "    else:\n",
    "        return res"
   ]
  },
  {
   "cell_type": "code",
   "execution_count": 142,
   "metadata": {},
   "outputs": [],
   "source": [
    "def cal_feature(audios,avr = True):\n",
    "    # trích xuất đặc trưng từ danh sách các audio\n",
    "    # lấy trung bình\n",
    "    fts = [] #mảng hai chiều chứa thông tin các vector \n",
    "    for audio in audios:\n",
    "        fts.append(cal_mfccs(audio,avr=avr))\n",
    "    fts = np.array(fts)\n",
    "    if (len(fts)!=21): print(len(fts))\n",
    "    if avr:\n",
    "        feature = np.mean(fts,axis = 0)\n",
    "        return feature\n",
    "    else:\n",
    "        return fts    \n"
   ]
  },
  {
   "cell_type": "code",
   "execution_count": 36,
   "metadata": {},
   "outputs": [
    {
     "name": "stderr",
     "output_type": "stream",
     "text": [
      "d:\\python\\Lib\\site-packages\\librosa\\core\\spectrum.py:256: UserWarning: n_fft=2048 is too large for input signal of length=54\n",
      "  warnings.warn(\n",
      "d:\\python\\Lib\\site-packages\\librosa\\core\\spectrum.py:256: UserWarning: n_fft=2048 is too large for input signal of length=57\n",
      "  warnings.warn(\n",
      "d:\\python\\Lib\\site-packages\\librosa\\core\\spectrum.py:256: UserWarning: n_fft=2048 is too large for input signal of length=50\n",
      "  warnings.warn(\n",
      "d:\\python\\Lib\\site-packages\\librosa\\core\\spectrum.py:256: UserWarning: n_fft=2048 is too large for input signal of length=64\n",
      "  warnings.warn(\n",
      "d:\\python\\Lib\\site-packages\\librosa\\core\\spectrum.py:256: UserWarning: n_fft=2048 is too large for input signal of length=136\n",
      "  warnings.warn(\n",
      "d:\\python\\Lib\\site-packages\\librosa\\core\\spectrum.py:256: UserWarning: n_fft=2048 is too large for input signal of length=319\n",
      "  warnings.warn(\n",
      "d:\\python\\Lib\\site-packages\\librosa\\core\\spectrum.py:256: UserWarning: n_fft=2048 is too large for input signal of length=112\n",
      "  warnings.warn(\n",
      "d:\\python\\Lib\\site-packages\\librosa\\core\\spectrum.py:256: UserWarning: n_fft=2048 is too large for input signal of length=43\n",
      "  warnings.warn(\n",
      "d:\\python\\Lib\\site-packages\\librosa\\core\\spectrum.py:256: UserWarning: n_fft=2048 is too large for input signal of length=40\n",
      "  warnings.warn(\n",
      "d:\\python\\Lib\\site-packages\\librosa\\core\\spectrum.py:256: UserWarning: n_fft=2048 is too large for input signal of length=143\n",
      "  warnings.warn(\n",
      "d:\\python\\Lib\\site-packages\\librosa\\core\\spectrum.py:256: UserWarning: n_fft=2048 is too large for input signal of length=98\n",
      "  warnings.warn(\n",
      "d:\\python\\Lib\\site-packages\\librosa\\core\\spectrum.py:256: UserWarning: n_fft=2048 is too large for input signal of length=315\n",
      "  warnings.warn(\n",
      "d:\\python\\Lib\\site-packages\\librosa\\core\\spectrum.py:256: UserWarning: n_fft=2048 is too large for input signal of length=295\n",
      "  warnings.warn(\n",
      "d:\\python\\Lib\\site-packages\\librosa\\core\\spectrum.py:256: UserWarning: n_fft=2048 is too large for input signal of length=47\n",
      "  warnings.warn(\n",
      "d:\\python\\Lib\\site-packages\\librosa\\core\\spectrum.py:256: UserWarning: n_fft=2048 is too large for input signal of length=36\n",
      "  warnings.warn(\n",
      "d:\\python\\Lib\\site-packages\\librosa\\core\\spectrum.py:256: UserWarning: n_fft=2048 is too large for input signal of length=119\n",
      "  warnings.warn(\n",
      "d:\\python\\Lib\\site-packages\\librosa\\core\\spectrum.py:256: UserWarning: n_fft=2048 is too large for input signal of length=154\n",
      "  warnings.warn(\n",
      "d:\\python\\Lib\\site-packages\\librosa\\core\\spectrum.py:256: UserWarning: n_fft=2048 is too large for input signal of length=291\n",
      "  warnings.warn(\n",
      "d:\\python\\Lib\\site-packages\\librosa\\core\\spectrum.py:256: UserWarning: n_fft=2048 is too large for input signal of length=267\n",
      "  warnings.warn(\n",
      "d:\\python\\Lib\\site-packages\\librosa\\core\\spectrum.py:256: UserWarning: n_fft=2048 is too large for input signal of length=185\n",
      "  warnings.warn(\n",
      "d:\\python\\Lib\\site-packages\\librosa\\core\\spectrum.py:256: UserWarning: n_fft=2048 is too large for input signal of length=74\n",
      "  warnings.warn(\n",
      "d:\\python\\Lib\\site-packages\\librosa\\core\\spectrum.py:256: UserWarning: n_fft=2048 is too large for input signal of length=164\n",
      "  warnings.warn(\n",
      "d:\\python\\Lib\\site-packages\\librosa\\core\\spectrum.py:256: UserWarning: n_fft=2048 is too large for input signal of length=167\n",
      "  warnings.warn(\n",
      "d:\\python\\Lib\\site-packages\\librosa\\core\\spectrum.py:256: UserWarning: n_fft=2048 is too large for input signal of length=126\n",
      "  warnings.warn(\n",
      "d:\\python\\Lib\\site-packages\\librosa\\core\\spectrum.py:256: UserWarning: n_fft=2048 is too large for input signal of length=61\n",
      "  warnings.warn(\n",
      "d:\\python\\Lib\\site-packages\\librosa\\core\\spectrum.py:256: UserWarning: n_fft=2048 is too large for input signal of length=88\n",
      "  warnings.warn(\n",
      "d:\\python\\Lib\\site-packages\\librosa\\core\\spectrum.py:256: UserWarning: n_fft=2048 is too large for input signal of length=33\n",
      "  warnings.warn(\n",
      "d:\\python\\Lib\\site-packages\\librosa\\core\\spectrum.py:256: UserWarning: n_fft=2048 is too large for input signal of length=419\n",
      "  warnings.warn(\n",
      "d:\\python\\Lib\\site-packages\\librosa\\core\\spectrum.py:256: UserWarning: n_fft=2048 is too large for input signal of length=67\n",
      "  warnings.warn(\n",
      "d:\\python\\Lib\\site-packages\\librosa\\core\\spectrum.py:256: UserWarning: n_fft=2048 is too large for input signal of length=253\n",
      "  warnings.warn(\n"
     ]
    },
    {
     "name": "stdout",
     "output_type": "stream",
     "text": [
      "[227.66695    20.164682   14.719616   13.250325   12.565171   12.021971\n",
      "  10.839652   10.245134   10.6460705   8.991888    8.097502    7.559562\n",
      "   6.9890246]\n"
     ]
    },
    {
     "name": "stderr",
     "output_type": "stream",
     "text": [
      "d:\\python\\Lib\\site-packages\\librosa\\core\\spectrum.py:256: UserWarning: n_fft=2048 is too large for input signal of length=30\n",
      "  warnings.warn(\n"
     ]
    }
   ],
   "source": [
    "features = [] # Kết quả , features[0] tương ứng vector FFT(ndarray) của chữ a, 1 của e,...\n",
    "for i in range(0,5):\n",
    "    # if (i!=1): continue\n",
    "    audios = ReadFileByName(training_path,i)\n",
    "    features.append(cal_feature(audios))\n",
    "# print(features)\n",
    "# for i in range(0,5):\n",
    "#     print(char[i],\": \",features[i])\n",
    "\n",
    "print(np.array(features[1]).flatten())"
   ]
  },
  {
   "cell_type": "code",
   "execution_count": 43,
   "metadata": {},
   "outputs": [
    {
     "name": "stdout",
     "output_type": "stream",
     "text": [
      "(13,)\n",
      "(13,)\n",
      "(13,)\n",
      "(13,)\n",
      "(13,)\n"
     ]
    },
    {
     "data": {
      "image/png": "[encoded data removed]",
      "text/plain": [
       "<Figure size 640x480 with 1 Axes>"
      ]
     },
     "metadata": {},
     "output_type": "display_data"
    }
   ],
   "source": [
    "x = np.linspace(0,1,13)\n",
    "for i in range(0,5):\n",
    "    flat_data = np.array(features[i]).flatten()\n",
    "    print(flat_data.shape)\n",
    "    plt.plot(x,flat_data,label=char[i])\n",
    "plt.legend()\n",
    "plt.show()"
   ]
  },
  {
   "cell_type": "code",
   "execution_count": 30,
   "metadata": {},
   "outputs": [],
   "source": [
    "def predict_audio_label(audio, known_features, target_labels):\n",
    "    min_distance = float('inf')\n",
    "    predicted_label = None\n",
    "    # Tính đặc trưng của file kiểm tra\n",
    "    test_feature = cal_mfccs(audio)\n",
    "    # So sánh với đặc trưng đã biết\n",
    "    for label, feature in zip(target_labels, known_features):\n",
    "        distance = np.linalg.norm(test_feature - feature)\n",
    "        if distance < min_distance:\n",
    "            min_distance = distance\n",
    "            predicted_label = label\n",
    "    return predicted_label"
   ]
  },
  {
   "cell_type": "code",
   "execution_count": 31,
   "metadata": {},
   "outputs": [],
   "source": [
    "def evaluate_testing_set(testing_path, known_features, target_labels):\n",
    "    correct_predictions = 0\n",
    "    total_files = 0\n",
    "    pred = []\n",
    "    # Duyệt qua từng file trong tập kiểm tra\n",
    "    for dirs in sorted(os.listdir(testing_path)):\n",
    "        sub_path = os.path.join(testing_path, dirs)\n",
    "        for file_name in sorted(os.listdir(sub_path)):\n",
    "            file_path = os.path.join(sub_path, file_name)\n",
    "            true_label = file_name[0]  # Giả định nhãn đúng là ký tự đầu tiên trong tên file\n",
    "            audio, fs = librosa.load(file_path)\n",
    "            # Dự đoán nhãn và kiểm tra\n",
    "            predicted_label = predict_audio_label(audio, known_features, target_labels)\n",
    "            pred.append(predicted_label)\n",
    "            print(sub_path)\n",
    "            # print(f\"File: {file_name} - True: {true_label}, Predicted: {predicted_label}\")\n",
    "            correct_predictions += true_label == predicted_label\n",
    "            total_files += 1\n",
    "    # Tính tỷ lệ chính xác\n",
    "    accuracy = (correct_predictions / total_files) * 100\n",
    "    print(f\"Accuracy: {accuracy:.2f}%\")\n",
    "    return pred"
   ]
  },
  {
   "cell_type": "code",
   "execution_count": 46,
   "metadata": {},
   "outputs": [
    {
     "name": "stderr",
     "output_type": "stream",
     "text": [
      "d:\\python\\Lib\\site-packages\\librosa\\core\\spectrum.py:256: UserWarning: n_fft=2048 is too large for input signal of length=47\n",
      "  warnings.warn(\n",
      "d:\\python\\Lib\\site-packages\\librosa\\core\\spectrum.py:256: UserWarning: n_fft=2048 is too large for input signal of length=40\n",
      "  warnings.warn(\n",
      "d:\\python\\Lib\\site-packages\\librosa\\core\\spectrum.py:256: UserWarning: n_fft=2048 is too large for input signal of length=36\n",
      "  warnings.warn(\n",
      "d:\\python\\Lib\\site-packages\\librosa\\core\\spectrum.py:256: UserWarning: n_fft=2048 is too large for input signal of length=33\n",
      "  warnings.warn(\n",
      "d:\\python\\Lib\\site-packages\\librosa\\core\\spectrum.py:256: UserWarning: n_fft=2048 is too large for input signal of length=61\n",
      "  warnings.warn(\n",
      "d:\\python\\Lib\\site-packages\\librosa\\core\\spectrum.py:256: UserWarning: n_fft=2048 is too large for input signal of length=67\n",
      "  warnings.warn(\n",
      "d:\\python\\Lib\\site-packages\\librosa\\core\\spectrum.py:256: UserWarning: n_fft=2048 is too large for input signal of length=57\n",
      "  warnings.warn(\n",
      "d:\\python\\Lib\\site-packages\\librosa\\core\\spectrum.py:256: UserWarning: n_fft=2048 is too large for input signal of length=50\n",
      "  warnings.warn(\n",
      "d:\\python\\Lib\\site-packages\\librosa\\core\\spectrum.py:256: UserWarning: n_fft=2048 is too large for input signal of length=54\n",
      "  warnings.warn(\n",
      "d:\\python\\Lib\\site-packages\\librosa\\core\\spectrum.py:256: UserWarning: n_fft=2048 is too large for input signal of length=43\n",
      "  warnings.warn(\n",
      "d:\\python\\Lib\\site-packages\\librosa\\core\\spectrum.py:256: UserWarning: n_fft=2048 is too large for input signal of length=281\n",
      "  warnings.warn(\n"
     ]
    },
    {
     "name": "stdout",
     "output_type": "stream",
     "text": [
      "./trimmed-NguyenAmKiemThu-16k\\01MDA\n",
      "./trimmed-NguyenAmKiemThu-16k\\01MDA\n",
      "./trimmed-NguyenAmKiemThu-16k\\01MDA\n",
      "./trimmed-NguyenAmKiemThu-16k\\01MDA\n",
      "./trimmed-NguyenAmKiemThu-16k\\01MDA\n",
      "./trimmed-NguyenAmKiemThu-16k\\02FVA\n",
      "./trimmed-NguyenAmKiemThu-16k\\02FVA\n",
      "./trimmed-NguyenAmKiemThu-16k\\02FVA\n",
      "./trimmed-NguyenAmKiemThu-16k\\02FVA\n",
      "./trimmed-NguyenAmKiemThu-16k\\02FVA\n",
      "./trimmed-NguyenAmKiemThu-16k\\03MAB\n",
      "./trimmed-NguyenAmKiemThu-16k\\03MAB\n",
      "./trimmed-NguyenAmKiemThu-16k\\03MAB\n",
      "./trimmed-NguyenAmKiemThu-16k\\03MAB\n",
      "./trimmed-NguyenAmKiemThu-16k\\03MAB\n",
      "./trimmed-NguyenAmKiemThu-16k\\04MHB\n",
      "./trimmed-NguyenAmKiemThu-16k\\04MHB\n",
      "./trimmed-NguyenAmKiemThu-16k\\04MHB\n",
      "./trimmed-NguyenAmKiemThu-16k\\04MHB\n",
      "./trimmed-NguyenAmKiemThu-16k\\04MHB\n",
      "./trimmed-NguyenAmKiemThu-16k\\05MVB\n",
      "./trimmed-NguyenAmKiemThu-16k\\05MVB\n",
      "./trimmed-NguyenAmKiemThu-16k\\05MVB\n",
      "./trimmed-NguyenAmKiemThu-16k\\05MVB\n",
      "./trimmed-NguyenAmKiemThu-16k\\05MVB\n"
     ]
    },
    {
     "name": "stderr",
     "output_type": "stream",
     "text": [
      "d:\\python\\Lib\\site-packages\\librosa\\core\\spectrum.py:256: UserWarning: n_fft=2048 is too large for input signal of length=295\n",
      "  warnings.warn(\n",
      "d:\\python\\Lib\\site-packages\\librosa\\core\\spectrum.py:256: UserWarning: n_fft=2048 is too large for input signal of length=181\n",
      "  warnings.warn(\n",
      "d:\\python\\Lib\\site-packages\\librosa\\core\\spectrum.py:256: UserWarning: n_fft=2048 is too large for input signal of length=71\n",
      "  warnings.warn(\n",
      "d:\\python\\Lib\\site-packages\\librosa\\core\\spectrum.py:256: UserWarning: n_fft=2048 is too large for input signal of length=123\n",
      "  warnings.warn(\n",
      "d:\\python\\Lib\\site-packages\\librosa\\core\\spectrum.py:256: UserWarning: n_fft=2048 is too large for input signal of length=126\n",
      "  warnings.warn(\n"
     ]
    },
    {
     "name": "stdout",
     "output_type": "stream",
     "text": [
      "./trimmed-NguyenAmKiemThu-16k\\06FTB\n",
      "./trimmed-NguyenAmKiemThu-16k\\06FTB\n",
      "./trimmed-NguyenAmKiemThu-16k\\06FTB\n",
      "./trimmed-NguyenAmKiemThu-16k\\06FTB\n",
      "./trimmed-NguyenAmKiemThu-16k\\06FTB\n",
      "./trimmed-NguyenAmKiemThu-16k\\07FTC\n",
      "./trimmed-NguyenAmKiemThu-16k\\07FTC\n",
      "./trimmed-NguyenAmKiemThu-16k\\07FTC\n",
      "./trimmed-NguyenAmKiemThu-16k\\07FTC\n",
      "./trimmed-NguyenAmKiemThu-16k\\07FTC\n",
      "./trimmed-NguyenAmKiemThu-16k\\08MLD\n",
      "./trimmed-NguyenAmKiemThu-16k\\08MLD\n",
      "./trimmed-NguyenAmKiemThu-16k\\08MLD\n",
      "./trimmed-NguyenAmKiemThu-16k\\08MLD\n"
     ]
    },
    {
     "name": "stderr",
     "output_type": "stream",
     "text": [
      "d:\\python\\Lib\\site-packages\\librosa\\core\\spectrum.py:256: UserWarning: n_fft=2048 is too large for input signal of length=202\n",
      "  warnings.warn(\n",
      "d:\\python\\Lib\\site-packages\\librosa\\core\\spectrum.py:256: UserWarning: n_fft=2048 is too large for input signal of length=188\n",
      "  warnings.warn(\n",
      "d:\\python\\Lib\\site-packages\\librosa\\core\\spectrum.py:256: UserWarning: n_fft=2048 is too large for input signal of length=92\n",
      "  warnings.warn(\n",
      "d:\\python\\Lib\\site-packages\\librosa\\core\\spectrum.py:256: UserWarning: n_fft=2048 is too large for input signal of length=174\n",
      "  warnings.warn(\n",
      "d:\\python\\Lib\\site-packages\\librosa\\core\\spectrum.py:256: UserWarning: n_fft=2048 is too large for input signal of length=88\n",
      "  warnings.warn(\n"
     ]
    },
    {
     "name": "stdout",
     "output_type": "stream",
     "text": [
      "./trimmed-NguyenAmKiemThu-16k\\08MLD\n",
      "./trimmed-NguyenAmKiemThu-16k\\09MPD\n",
      "./trimmed-NguyenAmKiemThu-16k\\09MPD\n",
      "./trimmed-NguyenAmKiemThu-16k\\09MPD\n",
      "./trimmed-NguyenAmKiemThu-16k\\09MPD\n",
      "./trimmed-NguyenAmKiemThu-16k\\09MPD\n",
      "./trimmed-NguyenAmKiemThu-16k\\10MSD\n",
      "./trimmed-NguyenAmKiemThu-16k\\10MSD\n",
      "./trimmed-NguyenAmKiemThu-16k\\10MSD\n",
      "./trimmed-NguyenAmKiemThu-16k\\10MSD\n",
      "./trimmed-NguyenAmKiemThu-16k\\10MSD\n",
      "./trimmed-NguyenAmKiemThu-16k\\11MVD\n"
     ]
    },
    {
     "name": "stderr",
     "output_type": "stream",
     "text": [
      "d:\\python\\Lib\\site-packages\\librosa\\core\\spectrum.py:256: UserWarning: n_fft=2048 is too large for input signal of length=133\n",
      "  warnings.warn(\n",
      "d:\\python\\Lib\\site-packages\\librosa\\core\\spectrum.py:256: UserWarning: n_fft=2048 is too large for input signal of length=195\n",
      "  warnings.warn(\n",
      "d:\\python\\Lib\\site-packages\\librosa\\core\\spectrum.py:256: UserWarning: n_fft=2048 is too large for input signal of length=157\n",
      "  warnings.warn(\n"
     ]
    },
    {
     "name": "stdout",
     "output_type": "stream",
     "text": [
      "./trimmed-NguyenAmKiemThu-16k\\11MVD\n",
      "./trimmed-NguyenAmKiemThu-16k\\11MVD\n",
      "./trimmed-NguyenAmKiemThu-16k\\11MVD\n",
      "./trimmed-NguyenAmKiemThu-16k\\11MVD\n",
      "./trimmed-NguyenAmKiemThu-16k\\12FTD\n",
      "./trimmed-NguyenAmKiemThu-16k\\12FTD\n",
      "./trimmed-NguyenAmKiemThu-16k\\12FTD\n",
      "./trimmed-NguyenAmKiemThu-16k\\12FTD\n",
      "./trimmed-NguyenAmKiemThu-16k\\12FTD\n",
      "./trimmed-NguyenAmKiemThu-16k\\14FHH\n",
      "./trimmed-NguyenAmKiemThu-16k\\14FHH\n",
      "./trimmed-NguyenAmKiemThu-16k\\14FHH\n",
      "./trimmed-NguyenAmKiemThu-16k\\14FHH\n"
     ]
    },
    {
     "name": "stderr",
     "output_type": "stream",
     "text": [
      "d:\\python\\Lib\\site-packages\\librosa\\core\\spectrum.py:256: UserWarning: n_fft=2048 is too large for input signal of length=64\n",
      "  warnings.warn(\n",
      "d:\\python\\Lib\\site-packages\\librosa\\core\\spectrum.py:256: UserWarning: n_fft=2048 is too large for input signal of length=209\n",
      "  warnings.warn(\n",
      "d:\\python\\Lib\\site-packages\\librosa\\core\\spectrum.py:256: UserWarning: n_fft=2048 is too large for input signal of length=284\n",
      "  warnings.warn(\n",
      "d:\\python\\Lib\\site-packages\\librosa\\core\\spectrum.py:256: UserWarning: n_fft=2048 is too large for input signal of length=119\n",
      "  warnings.warn(\n"
     ]
    },
    {
     "name": "stdout",
     "output_type": "stream",
     "text": [
      "./trimmed-NguyenAmKiemThu-16k\\14FHH\n",
      "./trimmed-NguyenAmKiemThu-16k\\15MMH\n",
      "./trimmed-NguyenAmKiemThu-16k\\15MMH\n",
      "./trimmed-NguyenAmKiemThu-16k\\15MMH\n",
      "./trimmed-NguyenAmKiemThu-16k\\15MMH\n",
      "./trimmed-NguyenAmKiemThu-16k\\15MMH\n",
      "./trimmed-NguyenAmKiemThu-16k\\16FTH\n",
      "./trimmed-NguyenAmKiemThu-16k\\16FTH\n",
      "./trimmed-NguyenAmKiemThu-16k\\16FTH\n",
      "./trimmed-NguyenAmKiemThu-16k\\16FTH\n",
      "./trimmed-NguyenAmKiemThu-16k\\16FTH\n",
      "./trimmed-NguyenAmKiemThu-16k\\17MTH\n",
      "./trimmed-NguyenAmKiemThu-16k\\17MTH\n",
      "./trimmed-NguyenAmKiemThu-16k\\17MTH\n",
      "./trimmed-NguyenAmKiemThu-16k\\17MTH\n",
      "./trimmed-NguyenAmKiemThu-16k\\17MTH\n",
      "./trimmed-NguyenAmKiemThu-16k\\18MNK\n",
      "./trimmed-NguyenAmKiemThu-16k\\18MNK\n",
      "./trimmed-NguyenAmKiemThu-16k\\18MNK\n",
      "./trimmed-NguyenAmKiemThu-16k\\18MNK\n",
      "./trimmed-NguyenAmKiemThu-16k\\18MNK\n",
      "./trimmed-NguyenAmKiemThu-16k\\19MXK\n",
      "./trimmed-NguyenAmKiemThu-16k\\19MXK\n",
      "./trimmed-NguyenAmKiemThu-16k\\19MXK\n",
      "./trimmed-NguyenAmKiemThu-16k\\19MXK\n",
      "./trimmed-NguyenAmKiemThu-16k\\19MXK\n",
      "./trimmed-NguyenAmKiemThu-16k\\20MVK\n"
     ]
    },
    {
     "name": "stderr",
     "output_type": "stream",
     "text": [
      "d:\\python\\Lib\\site-packages\\librosa\\core\\spectrum.py:256: UserWarning: n_fft=2048 is too large for input signal of length=78\n",
      "  warnings.warn(\n",
      "d:\\python\\Lib\\site-packages\\librosa\\core\\spectrum.py:256: UserWarning: n_fft=2048 is too large for input signal of length=150\n",
      "  warnings.warn(\n",
      "d:\\python\\Lib\\site-packages\\librosa\\core\\spectrum.py:256: UserWarning: n_fft=2048 is too large for input signal of length=30\n",
      "  warnings.warn(\n"
     ]
    },
    {
     "name": "stdout",
     "output_type": "stream",
     "text": [
      "./trimmed-NguyenAmKiemThu-16k\\20MVK\n",
      "./trimmed-NguyenAmKiemThu-16k\\20MVK\n",
      "./trimmed-NguyenAmKiemThu-16k\\20MVK\n",
      "./trimmed-NguyenAmKiemThu-16k\\20MVK\n",
      "./trimmed-NguyenAmKiemThu-16k\\21MTL\n",
      "./trimmed-NguyenAmKiemThu-16k\\21MTL\n",
      "./trimmed-NguyenAmKiemThu-16k\\21MTL\n",
      "./trimmed-NguyenAmKiemThu-16k\\21MTL\n",
      "./trimmed-NguyenAmKiemThu-16k\\21MTL\n",
      "./trimmed-NguyenAmKiemThu-16k\\22MHL\n",
      "./trimmed-NguyenAmKiemThu-16k\\22MHL\n",
      "./trimmed-NguyenAmKiemThu-16k\\22MHL\n",
      "./trimmed-NguyenAmKiemThu-16k\\22MHL\n",
      "./trimmed-NguyenAmKiemThu-16k\\22MHL\n",
      "Accuracy: 30.48%\n"
     ]
    }
   ],
   "source": [
    "target_labels = char  # ['a', 'e', 'i', 'o', 'u']\n",
    "# Đánh giá tập kiểm tra\n",
    "pred = evaluate_testing_set(testing_path, features, target_labels)"
   ]
  },
  {
   "cell_type": "code",
   "execution_count": 13,
   "metadata": {},
   "outputs": [],
   "source": [
    "def get_true_label():\n",
    "    labels = []\n",
    "    for subs,_,files in os.walk(\"./NguyenAmKiemThu-16k\"):\n",
    "        for file in files:\n",
    "            file_path = os.path.join(subs, file)\n",
    "            label = file_path.split(\"\\\\\")[-1].split(\".\")[0]\n",
    "            labels.append(label)\n",
    "\n",
    "    return labels\n",
    "lbs = get_true_label()\n"
   ]
  },
  {
   "cell_type": "code",
   "execution_count": 27,
   "metadata": {},
   "outputs": [
    {
     "data": {
      "image/png": "[encoded data removed]",
      "text/plain": [
       "<Figure size 1200x1000 with 2 Axes>"
      ]
     },
     "metadata": {},
     "output_type": "display_data"
    }
   ],
   "source": [
    "\n",
    "\n",
    "\n",
    "cm = confusion_matrix(lbs, y_pred=pred)\n",
    "\n",
    "plt.figure(figsize=(12, 10))\n",
    "sns.heatmap(cm, annot=True, fmt=\"d\",vmin=0.0, vmax=21, cmap=\"Blues\", cbar=True,\n",
    "            xticklabels=np.unique(lbs), yticklabels=np.unique(pred))\n",
    "plt.xlabel('Predicted')\n",
    "plt.ylabel('Actual')\n",
    "# plt.title(f'Confusion Matrix\\nAccuracy: {accuracy:.2f}')\n",
    "plt.show()"
   ]
  },
  {
   "cell_type": "code",
   "execution_count": 51,
   "metadata": {},
   "outputs": [
    {
     "name": "stderr",
     "output_type": "stream",
     "text": [
      "d:\\python\\Lib\\site-packages\\sklearn\\cluster\\_kmeans.py:870: FutureWarning: The default value of `n_init` will change from 10 to 'auto' in 1.4. Set the value of `n_init` explicitly to suppress the warning\n",
      "  warnings.warn(\n"
     ]
    }
   ],
   "source": []
  },
  {
   "cell_type": "code",
   "execution_count": 52,
   "metadata": {},
   "outputs": [
    {
     "name": "stdout",
     "output_type": "stream",
     "text": [
      "[[192.84963989  17.34904861  16.39594269  16.0087738   13.39996529\n",
      "   12.77142048  10.35312748  10.27732182   9.16722488   9.56130695\n",
      "    8.70845318   7.57979918   7.78981733]\n",
      " [272.5039978   37.45594406  19.89490318  15.57120323  12.92408657\n",
      "   10.44827175  10.74984074   9.42325878   8.19085026   9.00583839\n",
      "    8.00349522   7.70409155   7.065907  ]\n",
      " [227.66694641  20.16468239  14.71961594  13.2503252   12.56517124\n",
      "   12.02197075  10.83965206  10.24513435  10.64607048   8.99188805\n",
      "    8.09750175   7.55956221   6.98902464]\n",
      " [283.66110229  34.89684296  17.97097397  14.03869438  13.77997017\n",
      "   11.10899639  10.98543262  10.06579781   9.38016891   8.36865902\n",
      "    7.98309612   7.89340305   7.21190596]\n",
      " [203.7384491   20.42458344  13.51449394  13.65461636  13.50641346\n",
      "   11.45609283  10.06934357  10.30670834   9.75053024   8.44127655\n",
      "    8.23011875   7.32997227   7.25243568]]\n"
     ]
    }
   ],
   "source": []
  },
  {
   "cell_type": "code",
   "execution_count": 152,
   "metadata": {},
   "outputs": [
    {
     "name": "stderr",
     "output_type": "stream",
     "text": [
      "d:\\python\\Lib\\site-packages\\librosa\\core\\spectrum.py:256: UserWarning: n_fft=2048 is too large for input signal of length=54\n",
      "  warnings.warn(\n",
      "d:\\python\\Lib\\site-packages\\librosa\\core\\spectrum.py:256: UserWarning: n_fft=2048 is too large for input signal of length=57\n",
      "  warnings.warn(\n",
      "d:\\python\\Lib\\site-packages\\librosa\\core\\spectrum.py:256: UserWarning: n_fft=2048 is too large for input signal of length=50\n",
      "  warnings.warn(\n",
      "d:\\python\\Lib\\site-packages\\librosa\\core\\spectrum.py:256: UserWarning: n_fft=2048 is too large for input signal of length=64\n",
      "  warnings.warn(\n",
      "d:\\python\\Lib\\site-packages\\librosa\\core\\spectrum.py:256: UserWarning: n_fft=2048 is too large for input signal of length=136\n",
      "  warnings.warn(\n",
      "d:\\python\\Lib\\site-packages\\librosa\\core\\spectrum.py:256: UserWarning: n_fft=2048 is too large for input signal of length=319\n",
      "  warnings.warn(\n",
      "d:\\python\\Lib\\site-packages\\librosa\\core\\spectrum.py:256: UserWarning: n_fft=2048 is too large for input signal of length=112\n",
      "  warnings.warn(\n",
      "d:\\python\\Lib\\site-packages\\librosa\\core\\spectrum.py:256: UserWarning: n_fft=2048 is too large for input signal of length=43\n",
      "  warnings.warn(\n",
      "d:\\python\\Lib\\site-packages\\librosa\\core\\spectrum.py:256: UserWarning: n_fft=2048 is too large for input signal of length=40\n",
      "  warnings.warn(\n",
      "d:\\python\\Lib\\site-packages\\librosa\\core\\spectrum.py:256: UserWarning: n_fft=2048 is too large for input signal of length=143\n",
      "  warnings.warn(\n",
      "d:\\python\\Lib\\site-packages\\librosa\\core\\spectrum.py:256: UserWarning: n_fft=2048 is too large for input signal of length=98\n",
      "  warnings.warn(\n",
      "d:\\python\\Lib\\site-packages\\librosa\\core\\spectrum.py:256: UserWarning: n_fft=2048 is too large for input signal of length=315\n",
      "  warnings.warn(\n",
      "d:\\python\\Lib\\site-packages\\librosa\\core\\spectrum.py:256: UserWarning: n_fft=2048 is too large for input signal of length=295\n",
      "  warnings.warn(\n",
      "d:\\python\\Lib\\site-packages\\librosa\\core\\spectrum.py:256: UserWarning: n_fft=2048 is too large for input signal of length=47\n",
      "  warnings.warn(\n",
      "d:\\python\\Lib\\site-packages\\librosa\\core\\spectrum.py:256: UserWarning: n_fft=2048 is too large for input signal of length=36\n",
      "  warnings.warn(\n",
      "d:\\python\\Lib\\site-packages\\librosa\\core\\spectrum.py:256: UserWarning: n_fft=2048 is too large for input signal of length=119\n",
      "  warnings.warn(\n",
      "d:\\python\\Lib\\site-packages\\librosa\\core\\spectrum.py:256: UserWarning: n_fft=2048 is too large for input signal of length=154\n",
      "  warnings.warn(\n",
      "d:\\python\\Lib\\site-packages\\librosa\\core\\spectrum.py:256: UserWarning: n_fft=2048 is too large for input signal of length=291\n",
      "  warnings.warn(\n",
      "d:\\python\\Lib\\site-packages\\librosa\\core\\spectrum.py:256: UserWarning: n_fft=2048 is too large for input signal of length=267\n",
      "  warnings.warn(\n",
      "d:\\python\\Lib\\site-packages\\librosa\\core\\spectrum.py:256: UserWarning: n_fft=2048 is too large for input signal of length=185\n",
      "  warnings.warn(\n",
      "d:\\python\\Lib\\site-packages\\librosa\\core\\spectrum.py:256: UserWarning: n_fft=2048 is too large for input signal of length=74\n",
      "  warnings.warn(\n",
      "d:\\python\\Lib\\site-packages\\librosa\\core\\spectrum.py:256: UserWarning: n_fft=2048 is too large for input signal of length=164\n",
      "  warnings.warn(\n",
      "d:\\python\\Lib\\site-packages\\librosa\\core\\spectrum.py:256: UserWarning: n_fft=2048 is too large for input signal of length=167\n",
      "  warnings.warn(\n",
      "d:\\python\\Lib\\site-packages\\librosa\\core\\spectrum.py:256: UserWarning: n_fft=2048 is too large for input signal of length=126\n",
      "  warnings.warn(\n",
      "d:\\python\\Lib\\site-packages\\librosa\\core\\spectrum.py:256: UserWarning: n_fft=2048 is too large for input signal of length=61\n",
      "  warnings.warn(\n",
      "d:\\python\\Lib\\site-packages\\librosa\\core\\spectrum.py:256: UserWarning: n_fft=2048 is too large for input signal of length=88\n",
      "  warnings.warn(\n",
      "d:\\python\\Lib\\site-packages\\librosa\\core\\spectrum.py:256: UserWarning: n_fft=2048 is too large for input signal of length=33\n",
      "  warnings.warn(\n",
      "d:\\python\\Lib\\site-packages\\librosa\\core\\spectrum.py:256: UserWarning: n_fft=2048 is too large for input signal of length=419\n",
      "  warnings.warn(\n",
      "d:\\python\\Lib\\site-packages\\librosa\\core\\spectrum.py:256: UserWarning: n_fft=2048 is too large for input signal of length=67\n",
      "  warnings.warn(\n",
      "d:\\python\\Lib\\site-packages\\librosa\\core\\spectrum.py:256: UserWarning: n_fft=2048 is too large for input signal of length=253\n",
      "  warnings.warn(\n",
      "d:\\python\\Lib\\site-packages\\librosa\\core\\spectrum.py:256: UserWarning: n_fft=2048 is too large for input signal of length=30\n",
      "  warnings.warn(\n"
     ]
    }
   ],
   "source": [
    "fts_kmean = [] # Kết quả , features[0] tương ứng vector FFT(ndarray) của chữ a, 1 của e,...\n",
    "for i in range(0,5):\n",
    "    # if (i!=1): continue\n",
    "    audios = ReadFileByName(training_path,i)\n",
    "    fts_kmean.append(cal_feature(audios,avr=False))\n",
    "# len([np.array(i).flatten() for i in  fts_kmean][0])"
   ]
  },
  {
   "cell_type": "code",
   "execution_count": 153,
   "metadata": {},
   "outputs": [
    {
     "ename": "ValueError",
     "evalue": "Found array with dim 4. KMeans expected <= 2.",
     "output_type": "error",
     "traceback": [
      "\u001b[1;31m---------------------------------------------------------------------------\u001b[0m",
      "\u001b[1;31mValueError\u001b[0m                                Traceback (most recent call last)",
      "\u001b[1;32md:\\BT\\XLTHS\\b3\\main.ipynb Cell 23\u001b[0m line \u001b[0;36m6\n\u001b[0;32m      <a href='vscode-notebook-cell:/d%3A/BT/XLTHS/b3/main.ipynb#X31sZmlsZQ%3D%3D?line=3'>4</a>\u001b[0m kmean_fts \u001b[39m=\u001b[39m []\n\u001b[0;32m      <a href='vscode-notebook-cell:/d%3A/BT/XLTHS/b3/main.ipynb#X31sZmlsZQ%3D%3D?line=4'>5</a>\u001b[0m \u001b[39mfor\u001b[39;00m i \u001b[39min\u001b[39;00m \u001b[39mrange\u001b[39m(\u001b[39m0\u001b[39m,\u001b[39m5\u001b[39m):\n\u001b[1;32m----> <a href='vscode-notebook-cell:/d%3A/BT/XLTHS/b3/main.ipynb#X31sZmlsZQ%3D%3D?line=5'>6</a>\u001b[0m     kmean \u001b[39m=\u001b[39m KMeans(n_clusters\u001b[39m=\u001b[39;49m\u001b[39m5\u001b[39;49m,random_state\u001b[39m=\u001b[39;49m\u001b[39m42\u001b[39;49m)\u001b[39m.\u001b[39;49mfit(fts_kmean[i])\n\u001b[0;32m      <a href='vscode-notebook-cell:/d%3A/BT/XLTHS/b3/main.ipynb#X31sZmlsZQ%3D%3D?line=6'>7</a>\u001b[0m     kmean_fts\u001b[39m.\u001b[39mappend(kmean\u001b[39m.\u001b[39mcluster_centers_)\n",
      "File \u001b[1;32md:\\python\\Lib\\site-packages\\sklearn\\cluster\\_kmeans.py:1417\u001b[0m, in \u001b[0;36mKMeans.fit\u001b[1;34m(self, X, y, sample_weight)\u001b[0m\n\u001b[0;32m   1390\u001b[0m \u001b[39m\u001b[39m\u001b[39m\"\"\"Compute k-means clustering.\u001b[39;00m\n\u001b[0;32m   1391\u001b[0m \n\u001b[0;32m   1392\u001b[0m \u001b[39mParameters\u001b[39;00m\n\u001b[1;32m   (...)\u001b[0m\n\u001b[0;32m   1413\u001b[0m \u001b[39m    Fitted estimator.\u001b[39;00m\n\u001b[0;32m   1414\u001b[0m \u001b[39m\"\"\"\u001b[39;00m\n\u001b[0;32m   1415\u001b[0m \u001b[39mself\u001b[39m\u001b[39m.\u001b[39m_validate_params()\n\u001b[1;32m-> 1417\u001b[0m X \u001b[39m=\u001b[39m \u001b[39mself\u001b[39;49m\u001b[39m.\u001b[39;49m_validate_data(\n\u001b[0;32m   1418\u001b[0m     X,\n\u001b[0;32m   1419\u001b[0m     accept_sparse\u001b[39m=\u001b[39;49m\u001b[39m\"\u001b[39;49m\u001b[39mcsr\u001b[39;49m\u001b[39m\"\u001b[39;49m,\n\u001b[0;32m   1420\u001b[0m     dtype\u001b[39m=\u001b[39;49m[np\u001b[39m.\u001b[39;49mfloat64, np\u001b[39m.\u001b[39;49mfloat32],\n\u001b[0;32m   1421\u001b[0m     order\u001b[39m=\u001b[39;49m\u001b[39m\"\u001b[39;49m\u001b[39mC\u001b[39;49m\u001b[39m\"\u001b[39;49m,\n\u001b[0;32m   1422\u001b[0m     copy\u001b[39m=\u001b[39;49m\u001b[39mself\u001b[39;49m\u001b[39m.\u001b[39;49mcopy_x,\n\u001b[0;32m   1423\u001b[0m     accept_large_sparse\u001b[39m=\u001b[39;49m\u001b[39mFalse\u001b[39;49;00m,\n\u001b[0;32m   1424\u001b[0m )\n\u001b[0;32m   1426\u001b[0m \u001b[39mself\u001b[39m\u001b[39m.\u001b[39m_check_params_vs_input(X)\n\u001b[0;32m   1428\u001b[0m random_state \u001b[39m=\u001b[39m check_random_state(\u001b[39mself\u001b[39m\u001b[39m.\u001b[39mrandom_state)\n",
      "File \u001b[1;32md:\\python\\Lib\\site-packages\\sklearn\\base.py:565\u001b[0m, in \u001b[0;36mBaseEstimator._validate_data\u001b[1;34m(self, X, y, reset, validate_separately, **check_params)\u001b[0m\n\u001b[0;32m    563\u001b[0m     \u001b[39mraise\u001b[39;00m \u001b[39mValueError\u001b[39;00m(\u001b[39m\"\u001b[39m\u001b[39mValidation should be done on X, y or both.\u001b[39m\u001b[39m\"\u001b[39m)\n\u001b[0;32m    564\u001b[0m \u001b[39melif\u001b[39;00m \u001b[39mnot\u001b[39;00m no_val_X \u001b[39mand\u001b[39;00m no_val_y:\n\u001b[1;32m--> 565\u001b[0m     X \u001b[39m=\u001b[39m check_array(X, input_name\u001b[39m=\u001b[39;49m\u001b[39m\"\u001b[39;49m\u001b[39mX\u001b[39;49m\u001b[39m\"\u001b[39;49m, \u001b[39m*\u001b[39;49m\u001b[39m*\u001b[39;49mcheck_params)\n\u001b[0;32m    566\u001b[0m     out \u001b[39m=\u001b[39m X\n\u001b[0;32m    567\u001b[0m \u001b[39melif\u001b[39;00m no_val_X \u001b[39mand\u001b[39;00m \u001b[39mnot\u001b[39;00m no_val_y:\n",
      "File \u001b[1;32md:\\python\\Lib\\site-packages\\sklearn\\utils\\validation.py:915\u001b[0m, in \u001b[0;36mcheck_array\u001b[1;34m(array, accept_sparse, accept_large_sparse, dtype, order, copy, force_all_finite, ensure_2d, allow_nd, ensure_min_samples, ensure_min_features, estimator, input_name)\u001b[0m\n\u001b[0;32m    910\u001b[0m     \u001b[39mraise\u001b[39;00m \u001b[39mValueError\u001b[39;00m(\n\u001b[0;32m    911\u001b[0m         \u001b[39m\"\u001b[39m\u001b[39mdtype=\u001b[39m\u001b[39m'\u001b[39m\u001b[39mnumeric\u001b[39m\u001b[39m'\u001b[39m\u001b[39m is not compatible with arrays of bytes/strings.\u001b[39m\u001b[39m\"\u001b[39m\n\u001b[0;32m    912\u001b[0m         \u001b[39m\"\u001b[39m\u001b[39mConvert your data to numeric values explicitly instead.\u001b[39m\u001b[39m\"\u001b[39m\n\u001b[0;32m    913\u001b[0m     )\n\u001b[0;32m    914\u001b[0m \u001b[39mif\u001b[39;00m \u001b[39mnot\u001b[39;00m allow_nd \u001b[39mand\u001b[39;00m array\u001b[39m.\u001b[39mndim \u001b[39m>\u001b[39m\u001b[39m=\u001b[39m \u001b[39m3\u001b[39m:\n\u001b[1;32m--> 915\u001b[0m     \u001b[39mraise\u001b[39;00m \u001b[39mValueError\u001b[39;00m(\n\u001b[0;32m    916\u001b[0m         \u001b[39m\"\u001b[39m\u001b[39mFound array with dim \u001b[39m\u001b[39m%d\u001b[39;00m\u001b[39m. \u001b[39m\u001b[39m%s\u001b[39;00m\u001b[39m expected <= 2.\u001b[39m\u001b[39m\"\u001b[39m\n\u001b[0;32m    917\u001b[0m         \u001b[39m%\u001b[39m (array\u001b[39m.\u001b[39mndim, estimator_name)\n\u001b[0;32m    918\u001b[0m     )\n\u001b[0;32m    920\u001b[0m \u001b[39mif\u001b[39;00m force_all_finite:\n\u001b[0;32m    921\u001b[0m     _assert_all_finite(\n\u001b[0;32m    922\u001b[0m         array,\n\u001b[0;32m    923\u001b[0m         input_name\u001b[39m=\u001b[39minput_name,\n\u001b[0;32m    924\u001b[0m         estimator_name\u001b[39m=\u001b[39mestimator_name,\n\u001b[0;32m    925\u001b[0m         allow_nan\u001b[39m=\u001b[39mforce_all_finite \u001b[39m==\u001b[39m \u001b[39m\"\u001b[39m\u001b[39mallow-nan\u001b[39m\u001b[39m\"\u001b[39m,\n\u001b[0;32m    926\u001b[0m     )\n",
      "\u001b[1;31mValueError\u001b[0m: Found array with dim 4. KMeans expected <= 2."
     ]
    }
   ],
   "source": [
    "from sklearn.cluster import KMeans\n",
    "\n",
    "# fts = [np.array(i).flatten() for i in fts_kmean]\n",
    "kmean_fts = []\n",
    "for i in range(0,5):\n",
    "    kmean = KMeans(n_clusters=5,random_state=42).fit(fts_kmean[i])\n",
    "    kmean_fts.append(kmean.cluster_centers_)"
   ]
  },
  {
   "cell_type": "code",
   "execution_count": 86,
   "metadata": {},
   "outputs": [
    {
     "name": "stdout",
     "output_type": "stream",
     "text": [
      "[[ 11.161383]\n",
      " [203.73845 ]]\n"
     ]
    }
   ],
   "source": [
    "# print(kmean_fts[0])"
   ]
  },
  {
   "cell_type": "code",
   "execution_count": 149,
   "metadata": {},
   "outputs": [
    {
     "name": "stdout",
     "output_type": "stream",
     "text": [
      "895.79114\n",
      "955.2206\n",
      "1106.3289\n",
      "871.6085\n",
      "1071.6394\n"
     ]
    },
    {
     "name": "stderr",
     "output_type": "stream",
     "text": [
      "d:\\python\\Lib\\site-packages\\librosa\\core\\spectrum.py:256: UserWarning: n_fft=2048 is too large for input signal of length=50\n",
      "  warnings.warn(\n"
     ]
    }
   ],
   "source": [
    "a,rate = librosa.load(\"./trimmed-NguyenAmKiemThu-16k/02FVA/u.wav\")\n",
    "\n",
    "a_fts = cal_mfccs(a)\n",
    "a_fts_t = np.array(a_fts).flatten()\n",
    "\n",
    "for i in range(0,5):\n",
    "    print(np.linalg.norm((np.array(kmean_fts[i]) - a_fts_t)))\n",
    "\n",
    "\n"
   ]
  },
  {
   "cell_type": "code",
   "execution_count": 105,
   "metadata": {},
   "outputs": [
    {
     "data": {
      "text/plain": [
       "array([[1.9329822e+02, 3.2198044e+01, 3.5797367e+00, 3.5398483e-02,\n",
       "        1.9346466e+00, 1.5398960e+00, 3.4688296e+00, 3.7409968e+00,\n",
       "        2.0879784e+00, 4.7357225e+00, 4.1077404e+00, 5.2119026e+00,\n",
       "        3.3454180e+00],\n",
       "       [7.2116089e-01, 1.6037901e+02, 1.8899733e+02, 1.9254167e+02,\n",
       "        1.9064241e+02, 1.9411696e+02, 1.9604590e+02, 1.9631805e+02,\n",
       "        1.9466505e+02, 1.9731279e+02, 1.9668481e+02, 1.9778897e+02,\n",
       "        1.9592249e+02]], dtype=float32)"
      ]
     },
     "execution_count": 105,
     "metadata": {},
     "output_type": "execute_result"
    }
   ],
   "source": [
    "euclidean_distances(X=np.array(kmean_fts[0]),Y=a_fts_t)"
   ]
  }
 ],
 "metadata": {
  "kernelspec": {
   "display_name": "Python 3",
   "language": "python",
   "name": "python3"
  },
  "language_info": {
   "codemirror_mode": {
    "name": "ipython",
    "version": 3
   },
   "file_extension": ".py",
   "mimetype": "text/x-python",
   "name": "python",
   "nbconvert_exporter": "python",
   "pygments_lexer": "ipython3",
   "version": "3.11.4"
  }
 },
 "nbformat": 4,
 "nbformat_minor": 2
}
